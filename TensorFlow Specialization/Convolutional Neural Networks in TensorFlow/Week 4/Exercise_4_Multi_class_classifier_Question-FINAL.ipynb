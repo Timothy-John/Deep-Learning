{
 "cells": [
  {
   "cell_type": "code",
   "execution_count": 5,
   "metadata": {
    "colab": {},
    "colab_type": "code",
    "id": "wYtuKeK0dImp"
   },
   "outputs": [],
   "source": [
    "# ATTENTION: Please do not alter any of the provided code in the exercise. Only add your own code where indicated\n",
    "# ATTENTION: Please do not add or remove any cells in the exercise. The grader will check specific cells based on the cell position.\n",
    "# ATTENTION: Please use the provided epoch values when training.\n",
    "\n",
    "import csv\n",
    "import numpy as np\n",
    "import tensorflow as tf\n",
    "from tensorflow.keras.preprocessing.image import ImageDataGenerator\n",
    "from os import getcwd"
   ]
  },
  {
   "cell_type": "code",
   "execution_count": 6,
   "metadata": {
    "colab": {},
    "colab_type": "code",
    "id": "4kxw-_rmcnVu"
   },
   "outputs": [
    {
     "name": "stdout",
     "output_type": "stream",
     "text": [
      "(27455, 28, 28)\n",
      "(27455,)\n",
      "(7172, 28, 28)\n",
      "(7172,)\n"
     ]
    }
   ],
   "source": [
    "def get_data(filename):\n",
    "  # You will need to write code that will read the file passed\n",
    "  # into this function. The first line contains the column headers\n",
    "  # so you should ignore it\n",
    "  # Each successive line contians 785 comma separated values between 0 and 255\n",
    "  # The first value is the label\n",
    "  # The rest are the pixel values for that picture\n",
    "  # The function will return 2 np.array types. One with all the labels\n",
    "  # One with all the images\n",
    "  #\n",
    "  # Tips: \n",
    "  # If you read a full line (as 'row') then row[0] has the label\n",
    "  # and row[1:785] has the 784 pixel values\n",
    "  # Take a look at np.array_split to turn the 784 pixels into 28x28\n",
    "  # You are reading in strings, but need the values to be floats\n",
    "  # Check out np.array().astype for a conversion\n",
    "    with open(filename) as training_file:\n",
    "           # Your code starts here\n",
    "            labels = []\n",
    "            images = []\n",
    "\n",
    "            line = csv.reader(training_file, delimiter=',')\n",
    "            next(line, None)\n",
    "            \n",
    "            for ch in line:\n",
    "                labels.append(ch[0])\n",
    "                images.append(np.array(ch[1:]).reshape((28,28)))\n",
    "            \n",
    "            labels = np.array(labels).astype(float)\n",
    "            images = np.array(images).astype(float)\n",
    "           # Your code ends here\n",
    "    return images, labels\n",
    "\n",
    "path_sign_mnist_train = f\"{getcwd()}/../tmp2/sign_mnist_train.csv\"\n",
    "path_sign_mnist_test = f\"{getcwd()}/../tmp2/sign_mnist_test.csv\"\n",
    "training_images, training_labels = get_data(path_sign_mnist_train)\n",
    "testing_images, testing_labels = get_data(path_sign_mnist_test)\n",
    "\n",
    "# Keep these\n",
    "print(training_images.shape)\n",
    "print(training_labels.shape)\n",
    "print(testing_images.shape)\n",
    "print(testing_labels.shape)\n",
    "\n",
    "# Their output should be:\n",
    "# (27455, 28, 28)\n",
    "# (27455,)\n",
    "# (7172, 28, 28)\n",
    "# (7172,)"
   ]
  },
  {
   "cell_type": "code",
   "execution_count": 7,
   "metadata": {
    "colab": {},
    "colab_type": "code",
    "id": "awoqRpyZdQkD"
   },
   "outputs": [
    {
     "name": "stdout",
     "output_type": "stream",
     "text": [
      "(27455, 28, 28, 1)\n",
      "(7172, 28, 28, 1)\n"
     ]
    }
   ],
   "source": [
    "# In this section you will have to add another dimension to the data\n",
    "# So, for example, if your array is (10000, 28, 28)\n",
    "# You will need to make it (10000, 28, 28, 1)\n",
    "# Hint: np.expand_dims\n",
    "\n",
    "training_images = np.expand_dims(training_images, axis= -1)  # Your Code Here\n",
    "testing_images = np.expand_dims(testing_images, axis= -1)    # Your Code Here\n",
    "\n",
    "# Create an ImageDataGenerator and do Image Augmentation\n",
    "train_datagen = ImageDataGenerator( rescale = 1./255,\n",
    "                                    rotation_range = 40,\n",
    "                                    height_shift_range = 0.2,\n",
    "                                    width_shift_range = 0.2,\n",
    "                                    shear_range = 0.2,\n",
    "                                    fill_mode = 'nearest',\n",
    "                                    zoom_range = 0.2,\n",
    "                                    horizontal_flip = True   # Your Code Here\n",
    "                                  )\n",
    "\n",
    "validation_datagen = ImageDataGenerator( rescale = 1./255)  # Your Code Here\n",
    "    \n",
    "# Keep These\n",
    "print(training_images.shape)\n",
    "print(testing_images.shape)\n",
    "    \n",
    "# Their output should be:\n",
    "# (27455, 28, 28, 1)\n",
    "# (7172, 28, 28, 1)"
   ]
  },
  {
   "cell_type": "code",
   "execution_count": 14,
   "metadata": {
    "colab": {},
    "colab_type": "code",
    "id": "Rmb7S32cgRqS"
   },
   "outputs": [
    {
     "name": "stdout",
     "output_type": "stream",
     "text": [
      "Epoch 1/15\n",
      "858/857 [==============================] - 75s 88ms/step - loss: 2.6318 - accuracy: 0.1149 - val_loss: 1.6215 - val_accuracy: 0.4332\n",
      "Epoch 2/15\n",
      "858/857 [==============================] - 75s 87ms/step - loss: 1.7565 - accuracy: 0.3867 - val_loss: 0.9647 - val_accuracy: 0.6891\n",
      "Epoch 3/15\n",
      "858/857 [==============================] - 77s 90ms/step - loss: 1.3188 - accuracy: 0.5449 - val_loss: 0.7347 - val_accuracy: 0.7133\n",
      "Epoch 4/15\n",
      "858/857 [==============================] - 72s 84ms/step - loss: 1.0719 - accuracy: 0.6326 - val_loss: 0.4863 - val_accuracy: 0.8427\n",
      "Epoch 5/15\n",
      "858/857 [==============================] - 72s 84ms/step - loss: 0.9005 - accuracy: 0.6911 - val_loss: 0.3811 - val_accuracy: 0.8734\n",
      "Epoch 6/15\n",
      "858/857 [==============================] - 71s 82ms/step - loss: 0.7804 - accuracy: 0.7282 - val_loss: 0.2829 - val_accuracy: 0.9103\n",
      "Epoch 7/15\n",
      "858/857 [==============================] - 73s 85ms/step - loss: 0.6888 - accuracy: 0.7619 - val_loss: 0.2598 - val_accuracy: 0.9112\n",
      "Epoch 8/15\n",
      "858/857 [==============================] - 74s 87ms/step - loss: 0.6268 - accuracy: 0.7881 - val_loss: 0.2456 - val_accuracy: 0.9272\n",
      "Epoch 9/15\n",
      "858/857 [==============================] - 76s 89ms/step - loss: 0.5723 - accuracy: 0.8001 - val_loss: 0.1918 - val_accuracy: 0.9391\n",
      "Epoch 10/15\n",
      "858/857 [==============================] - 76s 88ms/step - loss: 0.5207 - accuracy: 0.8243 - val_loss: 0.2031 - val_accuracy: 0.9395\n",
      "Epoch 11/15\n",
      "858/857 [==============================] - 73s 85ms/step - loss: 0.4907 - accuracy: 0.8269 - val_loss: 0.1537 - val_accuracy: 0.9579\n",
      "Epoch 12/15\n",
      "858/857 [==============================] - 70s 81ms/step - loss: 0.4703 - accuracy: 0.8420 - val_loss: 0.1816 - val_accuracy: 0.9439\n",
      "Epoch 13/15\n",
      "858/857 [==============================] - 71s 83ms/step - loss: 0.4420 - accuracy: 0.8543 - val_loss: 0.1979 - val_accuracy: 0.9396\n",
      "Epoch 14/15\n",
      "858/857 [==============================] - 69s 80ms/step - loss: 0.4106 - accuracy: 0.8616 - val_loss: 0.1603 - val_accuracy: 0.9492\n",
      "Epoch 15/15\n",
      "858/857 [==============================] - 70s 82ms/step - loss: 0.3995 - accuracy: 0.8626 - val_loss: 0.1171 - val_accuracy: 0.9629\n"
     ]
    },
    {
     "data": {
      "text/plain": [
       "[101.1881929345458, 0.7870887]"
      ]
     },
     "execution_count": 14,
     "metadata": {},
     "output_type": "execute_result"
    }
   ],
   "source": [
    "# Define the model\n",
    "# Use no more than 2 Conv2D and 2 MaxPooling2D\n",
    "model = tf.keras.models.Sequential([ tf.keras.layers.Conv2D(64, (3,3), activation= 'relu'),\n",
    "                                     tf.keras.layers.MaxPooling2D(2,2),\n",
    "                                     tf.keras.layers.Conv2D(128, (3,3), activation= 'relu'),\n",
    "                                     tf.keras.layers.MaxPooling2D(2,2),\n",
    "                                     tf.keras.layers.Flatten(),\n",
    "                                     tf.keras.layers.Dropout(0.2),\n",
    "                                     tf.keras.layers.Dense(512, activation= 'relu'),\n",
    "                                     tf.keras.layers.Dense(25, activation= 'softmax') # Your Code Here\n",
    "                                   ])\n",
    "\n",
    "# Compile Model. \n",
    "model.compile(loss = 'sparse_categorical_crossentropy', optimizer= 'adam', metrics= ['accuracy'])    # Your Code Here\n",
    "\n",
    "# Train the Model\n",
    "history = model.fit_generator(train_datagen.flow(training_images, training_labels, batch_size=32),\n",
    "                              steps_per_epoch=len(training_images) / 32,\n",
    "                              epochs=15,\n",
    "                              validation_data = validation_datagen.flow(testing_images, testing_labels, batch_size=32),\n",
    "                              validation_steps = len(testing_images) / 32)\n",
    "\n",
    "model.evaluate(testing_images, testing_labels, verbose=0)"
   ]
  },
  {
   "cell_type": "code",
   "execution_count": 15,
   "metadata": {
    "colab": {},
    "colab_type": "code",
    "id": "_Q3Zpr46dsij"
   },
   "outputs": [
    {
     "data": {
      "image/png": "[encoded data removed]",
      "text/plain": [
       "<Figure size 432x288 with 1 Axes>"
      ]
     },
     "metadata": {
      "needs_background": "light"
     },
     "output_type": "display_data"
    },
    {
     "data": {
      "image/png": "[encoded data removed]",
      "text/plain": [
       "<Figure size 432x288 with 1 Axes>"
      ]
     },
     "metadata": {
      "needs_background": "light"
     },
     "output_type": "display_data"
    }
   ],
   "source": [
    "# Plot the chart for accuracy and loss on both training and validation\n",
    "%matplotlib inline\n",
    "import matplotlib.pyplot as plt\n",
    "acc = history.history['accuracy']              # Your Code Here\n",
    "val_acc = history.history['val_accuracy']      # Your Code Here\n",
    "loss = history.history['loss']                 # Your Code Here\n",
    "val_loss = history.history['val_loss']         # Your Code Here\n",
    "\n",
    "epochs = range(len(acc))\n",
    "\n",
    "plt.plot(epochs, acc, 'r', label='Training accuracy')\n",
    "plt.plot(epochs, val_acc, 'b', label='Validation accuracy')\n",
    "plt.title('Training and validation accuracy')\n",
    "plt.legend()\n",
    "plt.figure()\n",
    "\n",
    "plt.plot(epochs, loss, 'r', label='Training Loss')\n",
    "plt.plot(epochs, val_loss, 'b', label='Validation Loss')\n",
    "plt.title('Training and validation loss')\n",
    "plt.legend()\n",
    "\n",
    "plt.show()"
   ]
  },
  {
   "cell_type": "markdown",
   "metadata": {},
   "source": [
    "# Submission Instructions"
   ]
  },
  {
   "cell_type": "code",
   "execution_count": 16,
   "metadata": {},
   "outputs": [],
   "source": [
    "# Now click the 'Submit Assignment' button above."
   ]
  },
  {
   "cell_type": "markdown",
   "metadata": {},
   "source": [
    "# When you're done or would like to take a break, please run the two cells below to save your work and close the Notebook. This will free up resources for your fellow learners. "
   ]
  },
  {
   "cell_type": "code",
   "execution_count": null,
   "metadata": {},
   "outputs": [],
   "source": [
    "%%javascript\n",
    "<!-- Save the notebook -->\n",
    "IPython.notebook.save_checkpoint();"
   ]
  },
  {
   "cell_type": "code",
   "execution_count": null,
   "metadata": {},
   "outputs": [],
   "source": [
    "%%javascript\n",
    "IPython.notebook.session.delete();\n",
    "window.onbeforeunload = null\n",
    "setTimeout(function() { window.close(); }, 1000);"
   ]
  }
 ],
 "metadata": {
  "colab": {
   "name": "Exercise 8 - Question.ipynb",
   "provenance": []
  },
  "coursera": {
   "course_slug": "convolutional-neural-networks-tensorflow",
   "graded_item_id": "8mIh8",
   "launcher_item_id": "gg95t"
  },
  "kernelspec": {
   "display_name": "Python 3",
   "language": "python",
   "name": "python3"
  },
  "language_info": {
   "codemirror_mode": {
    "name": "ipython",
    "version": 3
   },
   "file_extension": ".py",
   "mimetype": "text/x-python",
   "name": "python",
   "nbconvert_exporter": "python",
   "pygments_lexer": "ipython3",
   "version": "3.6.8"
  }
 },
 "nbformat": 4,
 "nbformat_minor": 1
}
