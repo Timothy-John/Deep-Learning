{
  "nbformat": 4,
  "nbformat_minor": 0,
  "metadata": {
    "accelerator": "GPU",
    "colab": {
      "name": "Course 2 - Part 4 - Lesson 4 - Notebook.ipynb",
      "provenance": [],
      "collapsed_sections": [],
      "toc_visible": true
    },
    "kernelspec": {
      "display_name": "Python 3",
      "name": "python3"
    }
  },
  "cells": [
    {
      "cell_type": "markdown",
      "metadata": {
        "colab_type": "text",
        "id": "rX8mhOLljYeM"
      },
      "source": [
        "##### Copyright 2019 The TensorFlow Authors."
      ]
    },
    {
      "cell_type": "code",
      "metadata": {
        "cellView": "form",
        "colab_type": "code",
        "id": "BZSlp3DAjdYf",
        "colab": {}
      },
      "source": [
        "#@title Licensed under the Apache License, Version 2.0 (the \"License\");\n",
        "# you may not use this file except in compliance with the License.\n",
        "# You may obtain a copy of the License at\n",
        "#\n",
        "# https://www.apache.org/licenses/LICENSE-2.0\n",
        "#\n",
        "# Unless required by applicable law or agreed to in writing, software\n",
        "# distributed under the License is distributed on an \"AS IS\" BASIS,\n",
        "# WITHOUT WARRANTIES OR CONDITIONS OF ANY KIND, either express or implied.\n",
        "# See the License for the specific language governing permissions and\n",
        "# limitations under the License."
      ],
      "execution_count": 0,
      "outputs": []
    },
    {
      "cell_type": "code",
      "metadata": {
        "colab_type": "code",
        "id": "RXZT2UsyIVe_",
        "colab": {
          "base_uri": "https://localhost:8080/",
          "height": 391
        },
        "outputId": "2c76ed15-5746-4781-b709-6e79ac67b356"
      },
      "source": [
        "!wget --no-check-certificate \\\n",
        "    https://storage.googleapis.com/laurencemoroney-blog.appspot.com/horse-or-human.zip \\\n",
        "    -O /tmp/horse-or-human.zip\n",
        "\n",
        "!wget --no-check-certificate \\\n",
        "    https://storage.googleapis.com/laurencemoroney-blog.appspot.com/validation-horse-or-human.zip \\\n",
        "    -O /tmp/validation-horse-or-human.zip\n",
        "  \n",
        "import os\n",
        "import zipfile\n",
        "\n",
        "local_zip = '/tmp/horse-or-human.zip'\n",
        "zip_ref = zipfile.ZipFile(local_zip, 'r')\n",
        "zip_ref.extractall('/tmp/horse-or-human')\n",
        "local_zip = '/tmp/validation-horse-or-human.zip'\n",
        "zip_ref = zipfile.ZipFile(local_zip, 'r')\n",
        "zip_ref.extractall('/tmp/validation-horse-or-human')\n",
        "zip_ref.close()\n",
        "# Directory with our training horse pictures\n",
        "train_horse_dir = os.path.join('/tmp/horse-or-human/horses')\n",
        "\n",
        "# Directory with our training human pictures\n",
        "train_human_dir = os.path.join('/tmp/horse-or-human/humans')\n",
        "\n",
        "# Directory with our training horse pictures\n",
        "validation_horse_dir = os.path.join('/tmp/validation-horse-or-human/horses')\n",
        "\n",
        "# Directory with our training human pictures\n",
        "validation_human_dir = os.path.join('/tmp/validation-horse-or-human/humans')"
      ],
      "execution_count": 1,
      "outputs": [
        {
          "output_type": "stream",
          "text": [
            "--2020-05-19 12:12:29--  https://storage.googleapis.com/laurencemoroney-blog.appspot.com/horse-or-human.zip\n",
            "Resolving storage.googleapis.com (storage.googleapis.com)... 74.125.140.128, 2a00:1450:400c:c01::80\n",
            "Connecting to storage.googleapis.com (storage.googleapis.com)|74.125.140.128|:443... connected.\n",
            "HTTP request sent, awaiting response... 200 OK\n",
            "Length: 149574867 (143M) [application/zip]\n",
            "Saving to: ‘/tmp/horse-or-human.zip’\n",
            "\n",
            "\r/tmp/horse-or-human   0%[                    ]       0  --.-KB/s               \r/tmp/horse-or-human   2%[                    ]   4.01M  14.9MB/s               \r/tmp/horse-or-human  19%[==>                 ]  27.58M  58.8MB/s               \r/tmp/horse-or-human  40%[=======>            ]  58.09M  86.8MB/s               \r/tmp/horse-or-human  61%[===========>        ]  88.01M   100MB/s               \r/tmp/horse-or-human  84%[===============>    ] 120.01M  96.1MB/s               \r/tmp/horse-or-human 100%[===================>] 142.65M   101MB/s    in 1.4s    \n",
            "\n",
            "2020-05-19 12:12:31 (101 MB/s) - ‘/tmp/horse-or-human.zip’ saved [149574867/149574867]\n",
            "\n",
            "--2020-05-19 12:12:35--  https://storage.googleapis.com/laurencemoroney-blog.appspot.com/validation-horse-or-human.zip\n",
            "Resolving storage.googleapis.com (storage.googleapis.com)... 173.194.76.128, 2a00:1450:400c:c0a::80\n",
            "Connecting to storage.googleapis.com (storage.googleapis.com)|173.194.76.128|:443... connected.\n",
            "HTTP request sent, awaiting response... 200 OK\n",
            "Length: 11480187 (11M) [application/zip]\n",
            "Saving to: ‘/tmp/validation-horse-or-human.zip’\n",
            "\n",
            "/tmp/validation-hor 100%[===================>]  10.95M  38.8MB/s    in 0.3s    \n",
            "\n",
            "2020-05-19 12:12:35 (38.8 MB/s) - ‘/tmp/validation-horse-or-human.zip’ saved [11480187/11480187]\n",
            "\n"
          ],
          "name": "stdout"
        }
      ]
    },
    {
      "cell_type": "markdown",
      "metadata": {
        "colab_type": "text",
        "id": "5oqBkNBJmtUv"
      },
      "source": [
        "## Building a Small Model from Scratch\n",
        "\n",
        "But before we continue, let's start defining the model:\n",
        "\n",
        "Step 1 will be to import tensorflow."
      ]
    },
    {
      "cell_type": "code",
      "metadata": {
        "colab_type": "code",
        "id": "qvfZg3LQbD-5",
        "colab": {}
      },
      "source": [
        "import tensorflow as tf"
      ],
      "execution_count": 0,
      "outputs": []
    },
    {
      "cell_type": "markdown",
      "metadata": {
        "colab_type": "text",
        "id": "BnhYCP4tdqjC"
      },
      "source": [
        "We then add convolutional layers as in the previous example, and flatten the final result to feed into the densely connected layers."
      ]
    },
    {
      "cell_type": "markdown",
      "metadata": {
        "colab_type": "text",
        "id": "gokG5HKpdtzm"
      },
      "source": [
        "Finally we add the densely connected layers. \n",
        "\n",
        "Note that because we are facing a two-class classification problem, i.e. a *binary classification problem*, we will end our network with a [*sigmoid* activation](https://wikipedia.org/wiki/Sigmoid_function), so that the output of our network will be a single scalar between 0 and 1, encoding the probability that the current image is class 1 (as opposed to class 0)."
      ]
    },
    {
      "cell_type": "code",
      "metadata": {
        "colab_type": "code",
        "id": "PixZ2s5QbYQ3",
        "colab": {}
      },
      "source": [
        "model = tf.keras.models.Sequential([\n",
        "    # Note the input shape is the desired size of the image 300x300 with 3 bytes color\n",
        "    # This is the first convolution\n",
        "    tf.keras.layers.Conv2D(16, (3,3), activation='relu', input_shape=(300, 300, 3)),\n",
        "    tf.keras.layers.MaxPooling2D(2, 2),\n",
        "    # The second convolution\n",
        "    tf.keras.layers.Conv2D(32, (3,3), activation='relu'),\n",
        "    tf.keras.layers.MaxPooling2D(2,2),\n",
        "    # The third convolution\n",
        "    tf.keras.layers.Conv2D(64, (3,3), activation='relu'),\n",
        "    tf.keras.layers.MaxPooling2D(2,2),\n",
        "    # The fourth convolution\n",
        "    tf.keras.layers.Conv2D(64, (3,3), activation='relu'),\n",
        "    tf.keras.layers.MaxPooling2D(2,2),\n",
        "    # The fifth convolution\n",
        "    tf.keras.layers.Conv2D(64, (3,3), activation='relu'),\n",
        "    tf.keras.layers.MaxPooling2D(2,2),\n",
        "    # Flatten the results to feed into a DNN\n",
        "    tf.keras.layers.Flatten(),\n",
        "    # 512 neuron hidden layer\n",
        "    tf.keras.layers.Dense(512, activation='relu'),\n",
        "    # Only 1 output neuron. It will contain a value from 0-1 where 0 for 1 class ('horses') and 1 for the other ('humans')\n",
        "    tf.keras.layers.Dense(1, activation='sigmoid')\n",
        "])"
      ],
      "execution_count": 0,
      "outputs": []
    },
    {
      "cell_type": "code",
      "metadata": {
        "colab_type": "code",
        "id": "8DHWhFP_uhq3",
        "colab": {}
      },
      "source": [
        "from tensorflow.keras.optimizers import RMSprop\n",
        "\n",
        "model.compile(loss='binary_crossentropy',\n",
        "              optimizer=RMSprop(lr=1e-4),\n",
        "              metrics=['accuracy'])"
      ],
      "execution_count": 0,
      "outputs": []
    },
    {
      "cell_type": "code",
      "metadata": {
        "colab_type": "code",
        "id": "ClebU9NJg99G",
        "colab": {
          "base_uri": "https://localhost:8080/",
          "height": 51
        },
        "outputId": "1e790620-e1df-472a-df4b-0de0bb914768"
      },
      "source": [
        "from tensorflow.keras.preprocessing.image import ImageDataGenerator\n",
        "\n",
        "# All images will be rescaled by 1./255\n",
        "train_datagen = ImageDataGenerator(\n",
        "      rescale=1./255,\n",
        "      rotation_range=40,\n",
        "      width_shift_range=0.2,\n",
        "      height_shift_range=0.2,\n",
        "      shear_range=0.2,\n",
        "      zoom_range=0.2,\n",
        "      horizontal_flip=True,\n",
        "      fill_mode='nearest')\n",
        "\n",
        "validation_datagen = ImageDataGenerator(rescale=1/255)\n",
        "\n",
        "# Flow training images in batches of 128 using train_datagen generator\n",
        "train_generator = train_datagen.flow_from_directory(\n",
        "        '/tmp/horse-or-human/',  # This is the source directory for training images\n",
        "        target_size=(300, 300),  # All images will be resized to 150x150\n",
        "        batch_size=128,\n",
        "        # Since we use binary_crossentropy loss, we need binary labels\n",
        "        class_mode='binary')\n",
        "\n",
        "# Flow training images in batches of 128 using train_datagen generator\n",
        "validation_generator = validation_datagen.flow_from_directory(\n",
        "        '/tmp/validation-horse-or-human/',  # This is the source directory for training images\n",
        "        target_size=(300, 300),  # All images will be resized to 150x150\n",
        "        batch_size=32,\n",
        "        # Since we use binary_crossentropy loss, we need binary labels\n",
        "        class_mode='binary')"
      ],
      "execution_count": 6,
      "outputs": [
        {
          "output_type": "stream",
          "text": [
            "Found 1027 images belonging to 2 classes.\n",
            "Found 256 images belonging to 2 classes.\n"
          ],
          "name": "stdout"
        }
      ]
    },
    {
      "cell_type": "code",
      "metadata": {
        "colab_type": "code",
        "id": "Fb1_lgobv81m",
        "colab": {
          "base_uri": "https://localhost:8080/",
          "height": 1000
        },
        "outputId": "58290de3-f7d5-4770-ca3e-e0b6a4f6b4a6"
      },
      "source": [
        "history = model.fit(\n",
        "      train_generator,\n",
        "      steps_per_epoch=8,  \n",
        "      epochs=100,\n",
        "      verbose=1,\n",
        "      validation_data = validation_generator,\n",
        "      validation_steps=8)"
      ],
      "execution_count": 7,
      "outputs": [
        {
          "output_type": "stream",
          "text": [
            "Epoch 1/100\n",
            "8/8 [==============================] - 20s 3s/step - loss: 0.6813 - accuracy: 0.5830 - val_loss: 0.6483 - val_accuracy: 0.5430\n",
            "Epoch 2/100\n",
            "8/8 [==============================] - 24s 3s/step - loss: 0.6424 - accuracy: 0.6707 - val_loss: 0.7246 - val_accuracy: 0.5000\n",
            "Epoch 3/100\n",
            "8/8 [==============================] - 21s 3s/step - loss: 0.6450 - accuracy: 0.6174 - val_loss: 0.6435 - val_accuracy: 0.5508\n",
            "Epoch 4/100\n",
            "8/8 [==============================] - 21s 3s/step - loss: 0.5858 - accuracy: 0.7008 - val_loss: 0.5657 - val_accuracy: 0.7617\n",
            "Epoch 5/100\n",
            "8/8 [==============================] - 21s 3s/step - loss: 0.5775 - accuracy: 0.7175 - val_loss: 0.7999 - val_accuracy: 0.5312\n",
            "Epoch 6/100\n",
            "8/8 [==============================] - 21s 3s/step - loss: 0.5866 - accuracy: 0.6919 - val_loss: 0.6842 - val_accuracy: 0.5703\n",
            "Epoch 7/100\n",
            "8/8 [==============================] - 21s 3s/step - loss: 0.5878 - accuracy: 0.6830 - val_loss: 0.8039 - val_accuracy: 0.5508\n",
            "Epoch 8/100\n",
            "8/8 [==============================] - 21s 3s/step - loss: 0.5110 - accuracy: 0.7586 - val_loss: 0.7285 - val_accuracy: 0.5664\n",
            "Epoch 9/100\n",
            "8/8 [==============================] - 21s 3s/step - loss: 0.5128 - accuracy: 0.7464 - val_loss: 0.4842 - val_accuracy: 0.7891\n",
            "Epoch 10/100\n",
            "8/8 [==============================] - 23s 3s/step - loss: 0.5045 - accuracy: 0.7754 - val_loss: 0.5756 - val_accuracy: 0.7109\n",
            "Epoch 11/100\n",
            "8/8 [==============================] - 24s 3s/step - loss: 0.5042 - accuracy: 0.7553 - val_loss: 0.7167 - val_accuracy: 0.6641\n",
            "Epoch 12/100\n",
            "8/8 [==============================] - 21s 3s/step - loss: 0.5721 - accuracy: 0.7241 - val_loss: 0.6783 - val_accuracy: 0.6797\n",
            "Epoch 13/100\n",
            "8/8 [==============================] - 21s 3s/step - loss: 0.5116 - accuracy: 0.7653 - val_loss: 0.7627 - val_accuracy: 0.6523\n",
            "Epoch 14/100\n",
            "8/8 [==============================] - 21s 3s/step - loss: 0.4568 - accuracy: 0.8009 - val_loss: 0.6667 - val_accuracy: 0.7383\n",
            "Epoch 15/100\n",
            "8/8 [==============================] - 21s 3s/step - loss: 0.4851 - accuracy: 0.7909 - val_loss: 1.0289 - val_accuracy: 0.6172\n",
            "Epoch 16/100\n",
            "8/8 [==============================] - 21s 3s/step - loss: 0.4465 - accuracy: 0.7953 - val_loss: 1.0147 - val_accuracy: 0.6133\n",
            "Epoch 17/100\n",
            "8/8 [==============================] - 21s 3s/step - loss: 0.4573 - accuracy: 0.7731 - val_loss: 0.8463 - val_accuracy: 0.6562\n",
            "Epoch 18/100\n",
            "8/8 [==============================] - 21s 3s/step - loss: 0.4308 - accuracy: 0.7987 - val_loss: 1.3683 - val_accuracy: 0.5469\n",
            "Epoch 19/100\n",
            "8/8 [==============================] - 23s 3s/step - loss: 0.4059 - accuracy: 0.8301 - val_loss: 0.9669 - val_accuracy: 0.6484\n",
            "Epoch 20/100\n",
            "8/8 [==============================] - 24s 3s/step - loss: 0.4086 - accuracy: 0.8109 - val_loss: 1.0955 - val_accuracy: 0.6758\n",
            "Epoch 21/100\n",
            "8/8 [==============================] - 21s 3s/step - loss: 0.4695 - accuracy: 0.7864 - val_loss: 1.0237 - val_accuracy: 0.6641\n",
            "Epoch 22/100\n",
            "8/8 [==============================] - 21s 3s/step - loss: 0.4209 - accuracy: 0.8220 - val_loss: 1.1216 - val_accuracy: 0.6523\n",
            "Epoch 23/100\n",
            "8/8 [==============================] - 21s 3s/step - loss: 0.4079 - accuracy: 0.8020 - val_loss: 1.3547 - val_accuracy: 0.6133\n",
            "Epoch 24/100\n",
            "8/8 [==============================] - 21s 3s/step - loss: 0.5145 - accuracy: 0.7864 - val_loss: 1.2946 - val_accuracy: 0.6055\n",
            "Epoch 25/100\n",
            "8/8 [==============================] - 21s 3s/step - loss: 0.3582 - accuracy: 0.8476 - val_loss: 1.2854 - val_accuracy: 0.6328\n",
            "Epoch 26/100\n",
            "8/8 [==============================] - 21s 3s/step - loss: 0.4083 - accuracy: 0.8276 - val_loss: 1.7073 - val_accuracy: 0.5820\n",
            "Epoch 27/100\n",
            "8/8 [==============================] - 21s 3s/step - loss: 0.3474 - accuracy: 0.8543 - val_loss: 1.1508 - val_accuracy: 0.6641\n",
            "Epoch 28/100\n",
            "8/8 [==============================] - 23s 3s/step - loss: 0.3308 - accuracy: 0.8525 - val_loss: 1.3662 - val_accuracy: 0.6484\n",
            "Epoch 29/100\n",
            "8/8 [==============================] - 24s 3s/step - loss: 0.3894 - accuracy: 0.8176 - val_loss: 1.3456 - val_accuracy: 0.6562\n",
            "Epoch 30/100\n",
            "8/8 [==============================] - 21s 3s/step - loss: 0.3994 - accuracy: 0.8354 - val_loss: 1.4202 - val_accuracy: 0.6289\n",
            "Epoch 31/100\n",
            "8/8 [==============================] - 21s 3s/step - loss: 0.3594 - accuracy: 0.8443 - val_loss: 1.0277 - val_accuracy: 0.7031\n",
            "Epoch 32/100\n",
            "8/8 [==============================] - 21s 3s/step - loss: 0.4097 - accuracy: 0.8131 - val_loss: 1.3948 - val_accuracy: 0.6250\n",
            "Epoch 33/100\n",
            "8/8 [==============================] - 21s 3s/step - loss: 0.3476 - accuracy: 0.8354 - val_loss: 1.5301 - val_accuracy: 0.6211\n",
            "Epoch 34/100\n",
            "8/8 [==============================] - 21s 3s/step - loss: 0.2987 - accuracy: 0.8877 - val_loss: 1.4498 - val_accuracy: 0.6523\n",
            "Epoch 35/100\n",
            "8/8 [==============================] - 21s 3s/step - loss: 0.4029 - accuracy: 0.8142 - val_loss: 2.3991 - val_accuracy: 0.5312\n",
            "Epoch 36/100\n",
            "8/8 [==============================] - 21s 3s/step - loss: 0.3171 - accuracy: 0.8754 - val_loss: 1.2196 - val_accuracy: 0.6953\n",
            "Epoch 37/100\n",
            "8/8 [==============================] - 23s 3s/step - loss: 0.3031 - accuracy: 0.8740 - val_loss: 1.4688 - val_accuracy: 0.6602\n",
            "Epoch 38/100\n",
            "8/8 [==============================] - 24s 3s/step - loss: 0.2726 - accuracy: 0.8910 - val_loss: 1.9004 - val_accuracy: 0.6250\n",
            "Epoch 39/100\n",
            "8/8 [==============================] - 21s 3s/step - loss: 0.2767 - accuracy: 0.8888 - val_loss: 2.2316 - val_accuracy: 0.5664\n",
            "Epoch 40/100\n",
            "8/8 [==============================] - 21s 3s/step - loss: 0.3403 - accuracy: 0.8343 - val_loss: 1.9919 - val_accuracy: 0.5781\n",
            "Epoch 41/100\n",
            "8/8 [==============================] - 21s 3s/step - loss: 0.3063 - accuracy: 0.8676 - val_loss: 1.6921 - val_accuracy: 0.6406\n",
            "Epoch 42/100\n",
            "8/8 [==============================] - 21s 3s/step - loss: 0.3752 - accuracy: 0.8376 - val_loss: 1.8179 - val_accuracy: 0.5586\n",
            "Epoch 43/100\n",
            "8/8 [==============================] - 21s 3s/step - loss: 0.2526 - accuracy: 0.8943 - val_loss: 1.8342 - val_accuracy: 0.6172\n",
            "Epoch 44/100\n",
            "8/8 [==============================] - 21s 3s/step - loss: 0.3168 - accuracy: 0.8687 - val_loss: 1.7039 - val_accuracy: 0.5742\n",
            "Epoch 45/100\n",
            "8/8 [==============================] - 21s 3s/step - loss: 0.2499 - accuracy: 0.8921 - val_loss: 1.6142 - val_accuracy: 0.6367\n",
            "Epoch 46/100\n",
            "8/8 [==============================] - 23s 3s/step - loss: 0.2533 - accuracy: 0.8926 - val_loss: 2.2508 - val_accuracy: 0.5781\n",
            "Epoch 47/100\n",
            "8/8 [==============================] - 23s 3s/step - loss: 0.2977 - accuracy: 0.8676 - val_loss: 1.5782 - val_accuracy: 0.6680\n",
            "Epoch 48/100\n",
            "8/8 [==============================] - 20s 3s/step - loss: 0.2342 - accuracy: 0.9066 - val_loss: 3.3591 - val_accuracy: 0.5117\n",
            "Epoch 49/100\n",
            "8/8 [==============================] - 20s 3s/step - loss: 0.2881 - accuracy: 0.8776 - val_loss: 2.0989 - val_accuracy: 0.5938\n",
            "Epoch 50/100\n",
            "8/8 [==============================] - 21s 3s/step - loss: 0.2877 - accuracy: 0.8799 - val_loss: 2.0960 - val_accuracy: 0.5742\n",
            "Epoch 51/100\n",
            "8/8 [==============================] - 21s 3s/step - loss: 0.2821 - accuracy: 0.8765 - val_loss: 1.9063 - val_accuracy: 0.6133\n",
            "Epoch 52/100\n",
            "8/8 [==============================] - 21s 3s/step - loss: 0.2854 - accuracy: 0.8899 - val_loss: 1.9607 - val_accuracy: 0.5742\n",
            "Epoch 53/100\n",
            "8/8 [==============================] - 21s 3s/step - loss: 0.2285 - accuracy: 0.9021 - val_loss: 1.7481 - val_accuracy: 0.6758\n",
            "Epoch 54/100\n",
            "8/8 [==============================] - 21s 3s/step - loss: 0.2170 - accuracy: 0.9177 - val_loss: 3.7681 - val_accuracy: 0.4766\n",
            "Epoch 55/100\n",
            "8/8 [==============================] - 23s 3s/step - loss: 0.2563 - accuracy: 0.8916 - val_loss: 2.2243 - val_accuracy: 0.5898\n",
            "Epoch 56/100\n",
            "8/8 [==============================] - 24s 3s/step - loss: 0.2430 - accuracy: 0.9010 - val_loss: 1.9122 - val_accuracy: 0.6562\n",
            "Epoch 57/100\n",
            "8/8 [==============================] - 21s 3s/step - loss: 0.2604 - accuracy: 0.9021 - val_loss: 2.1708 - val_accuracy: 0.6016\n",
            "Epoch 58/100\n",
            "8/8 [==============================] - 21s 3s/step - loss: 0.1911 - accuracy: 0.9299 - val_loss: 3.0847 - val_accuracy: 0.5547\n",
            "Epoch 59/100\n",
            "8/8 [==============================] - 21s 3s/step - loss: 0.2903 - accuracy: 0.8776 - val_loss: 1.8450 - val_accuracy: 0.6094\n",
            "Epoch 60/100\n",
            "8/8 [==============================] - 21s 3s/step - loss: 0.2004 - accuracy: 0.9344 - val_loss: 1.8478 - val_accuracy: 0.6445\n",
            "Epoch 61/100\n",
            "8/8 [==============================] - 21s 3s/step - loss: 0.1870 - accuracy: 0.9310 - val_loss: 2.6066 - val_accuracy: 0.6016\n",
            "Epoch 62/100\n",
            "8/8 [==============================] - 21s 3s/step - loss: 0.2575 - accuracy: 0.8865 - val_loss: 2.4150 - val_accuracy: 0.6328\n",
            "Epoch 63/100\n",
            "8/8 [==============================] - 21s 3s/step - loss: 0.1585 - accuracy: 0.9488 - val_loss: 2.0944 - val_accuracy: 0.6680\n",
            "Epoch 64/100\n",
            "8/8 [==============================] - 23s 3s/step - loss: 0.1898 - accuracy: 0.9238 - val_loss: 1.3435 - val_accuracy: 0.7266\n",
            "Epoch 65/100\n",
            "8/8 [==============================] - 24s 3s/step - loss: 0.2232 - accuracy: 0.9110 - val_loss: 3.5736 - val_accuracy: 0.5352\n",
            "Epoch 66/100\n",
            "8/8 [==============================] - 21s 3s/step - loss: 0.1976 - accuracy: 0.9244 - val_loss: 3.3588 - val_accuracy: 0.5625\n",
            "Epoch 67/100\n",
            "8/8 [==============================] - 21s 3s/step - loss: 0.2164 - accuracy: 0.9110 - val_loss: 2.1142 - val_accuracy: 0.6328\n",
            "Epoch 68/100\n",
            "8/8 [==============================] - 21s 3s/step - loss: 0.1964 - accuracy: 0.9177 - val_loss: 3.8714 - val_accuracy: 0.5508\n",
            "Epoch 69/100\n",
            "8/8 [==============================] - 21s 3s/step - loss: 0.2473 - accuracy: 0.8843 - val_loss: 2.4439 - val_accuracy: 0.5938\n",
            "Epoch 70/100\n",
            "8/8 [==============================] - 21s 3s/step - loss: 0.2431 - accuracy: 0.9077 - val_loss: 2.2554 - val_accuracy: 0.6445\n",
            "Epoch 71/100\n",
            "8/8 [==============================] - 21s 3s/step - loss: 0.1918 - accuracy: 0.9199 - val_loss: 2.2651 - val_accuracy: 0.5898\n",
            "Epoch 72/100\n",
            "8/8 [==============================] - 21s 3s/step - loss: 0.1689 - accuracy: 0.9388 - val_loss: 2.5905 - val_accuracy: 0.5977\n",
            "Epoch 73/100\n",
            "8/8 [==============================] - 23s 3s/step - loss: 0.1387 - accuracy: 0.9561 - val_loss: 2.6819 - val_accuracy: 0.6445\n",
            "Epoch 74/100\n",
            "8/8 [==============================] - 24s 3s/step - loss: 0.2037 - accuracy: 0.9188 - val_loss: 2.4159 - val_accuracy: 0.6523\n",
            "Epoch 75/100\n",
            "8/8 [==============================] - 21s 3s/step - loss: 0.1751 - accuracy: 0.9288 - val_loss: 2.9823 - val_accuracy: 0.5820\n",
            "Epoch 76/100\n",
            "8/8 [==============================] - 21s 3s/step - loss: 0.3083 - accuracy: 0.8821 - val_loss: 2.5477 - val_accuracy: 0.6133\n",
            "Epoch 77/100\n",
            "8/8 [==============================] - 21s 3s/step - loss: 0.1497 - accuracy: 0.9533 - val_loss: 3.0762 - val_accuracy: 0.6016\n",
            "Epoch 78/100\n",
            "8/8 [==============================] - 20s 3s/step - loss: 0.1319 - accuracy: 0.9544 - val_loss: 3.0173 - val_accuracy: 0.5742\n",
            "Epoch 79/100\n",
            "8/8 [==============================] - 21s 3s/step - loss: 0.1896 - accuracy: 0.9255 - val_loss: 2.1490 - val_accuracy: 0.6328\n",
            "Epoch 80/100\n",
            "8/8 [==============================] - 21s 3s/step - loss: 0.2626 - accuracy: 0.9032 - val_loss: 2.9566 - val_accuracy: 0.5781\n",
            "Epoch 81/100\n",
            "8/8 [==============================] - 21s 3s/step - loss: 0.1507 - accuracy: 0.9344 - val_loss: 3.4820 - val_accuracy: 0.5312\n",
            "Epoch 82/100\n",
            "8/8 [==============================] - 23s 3s/step - loss: 0.1575 - accuracy: 0.9414 - val_loss: 2.4746 - val_accuracy: 0.6172\n",
            "Epoch 83/100\n",
            "8/8 [==============================] - 24s 3s/step - loss: 0.1903 - accuracy: 0.9155 - val_loss: 2.3066 - val_accuracy: 0.6406\n",
            "Epoch 84/100\n",
            "8/8 [==============================] - 21s 3s/step - loss: 0.1728 - accuracy: 0.9333 - val_loss: 1.3437 - val_accuracy: 0.7109\n",
            "Epoch 85/100\n",
            "8/8 [==============================] - 21s 3s/step - loss: 0.1270 - accuracy: 0.9533 - val_loss: 2.7470 - val_accuracy: 0.6211\n",
            "Epoch 86/100\n",
            "8/8 [==============================] - 21s 3s/step - loss: 0.2605 - accuracy: 0.8999 - val_loss: 2.0761 - val_accuracy: 0.6406\n",
            "Epoch 87/100\n",
            "8/8 [==============================] - 21s 3s/step - loss: 0.1640 - accuracy: 0.9388 - val_loss: 2.4870 - val_accuracy: 0.6133\n",
            "Epoch 88/100\n",
            "8/8 [==============================] - 21s 3s/step - loss: 0.1542 - accuracy: 0.9455 - val_loss: 1.4004 - val_accuracy: 0.7266\n",
            "Epoch 89/100\n",
            "8/8 [==============================] - 21s 3s/step - loss: 0.1620 - accuracy: 0.9321 - val_loss: 2.1522 - val_accuracy: 0.6484\n",
            "Epoch 90/100\n",
            "8/8 [==============================] - 21s 3s/step - loss: 0.1381 - accuracy: 0.9488 - val_loss: 4.0744 - val_accuracy: 0.5469\n",
            "Epoch 91/100\n",
            "8/8 [==============================] - 23s 3s/step - loss: 0.1609 - accuracy: 0.9346 - val_loss: 3.1240 - val_accuracy: 0.5859\n",
            "Epoch 92/100\n",
            "8/8 [==============================] - 24s 3s/step - loss: 0.1723 - accuracy: 0.9277 - val_loss: 2.7862 - val_accuracy: 0.6602\n",
            "Epoch 93/100\n",
            "8/8 [==============================] - 21s 3s/step - loss: 0.1400 - accuracy: 0.9444 - val_loss: 2.8247 - val_accuracy: 0.6328\n",
            "Epoch 94/100\n",
            "8/8 [==============================] - 21s 3s/step - loss: 0.1698 - accuracy: 0.9310 - val_loss: 2.7643 - val_accuracy: 0.6406\n",
            "Epoch 95/100\n",
            "8/8 [==============================] - 21s 3s/step - loss: 0.1302 - accuracy: 0.9466 - val_loss: 4.0724 - val_accuracy: 0.5625\n",
            "Epoch 96/100\n",
            "8/8 [==============================] - 21s 3s/step - loss: 0.1828 - accuracy: 0.9277 - val_loss: 2.4628 - val_accuracy: 0.6602\n",
            "Epoch 97/100\n",
            "8/8 [==============================] - 21s 3s/step - loss: 0.1550 - accuracy: 0.9399 - val_loss: 2.3803 - val_accuracy: 0.6602\n",
            "Epoch 98/100\n",
            "8/8 [==============================] - 21s 3s/step - loss: 0.1363 - accuracy: 0.9466 - val_loss: 2.5372 - val_accuracy: 0.6484\n",
            "Epoch 99/100\n",
            "8/8 [==============================] - 21s 3s/step - loss: 0.0982 - accuracy: 0.9633 - val_loss: 6.5506 - val_accuracy: 0.5469\n",
            "Epoch 100/100\n",
            "8/8 [==============================] - 23s 3s/step - loss: 0.2066 - accuracy: 0.9141 - val_loss: 3.0256 - val_accuracy: 0.6289\n"
          ],
          "name": "stdout"
        }
      ]
    },
    {
      "cell_type": "code",
      "metadata": {
        "colab_type": "code",
        "id": "7zNPRWOVJdOH",
        "colab": {
          "base_uri": "https://localhost:8080/",
          "height": 545
        },
        "outputId": "f685e40e-4af6-4e52-8243-6be72529386f"
      },
      "source": [
        "import matplotlib.pyplot as plt\n",
        "acc = history.history['accuracy']\n",
        "val_acc = history.history['val_accuracy']\n",
        "loss = history.history['loss']\n",
        "val_loss = history.history['val_loss']\n",
        "\n",
        "epochs = range(len(acc))\n",
        "\n",
        "plt.plot(epochs, acc, 'r', label='Training accuracy')\n",
        "plt.plot(epochs, val_acc, 'b', label='Validation accuracy')\n",
        "plt.title('Training and validation accuracy')\n",
        "\n",
        "plt.figure()\n",
        "\n",
        "plt.plot(epochs, loss, 'r', label='Training Loss')\n",
        "plt.plot(epochs, val_loss, 'b', label='Validation Loss')\n",
        "plt.title('Training and validation loss')\n",
        "plt.legend()\n",
        "\n",
        "plt.show()"
      ],
      "execution_count": 8,
      "outputs": [
        {
          "output_type": "display_data",
          "data": {
            "image/png": "[encoded data removed]",
            "text/plain": [
              "<Figure size 432x288 with 1 Axes>"
            ]
          },
          "metadata": {
            "tags": [],
            "needs_background": "light"
          }
        },
        {
          "output_type": "display_data",
          "data": {
            "image/png": "[encoded data removed]",
            "text/plain": [
              "<Figure size 432x288 with 1 Axes>"
            ]
          },
          "metadata": {
            "tags": [],
            "needs_background": "light"
          }
        }
      ]
    }
  ]
}