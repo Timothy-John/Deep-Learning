{
  "nbformat": 4,
  "nbformat_minor": 0,
  "metadata": {
    "accelerator": "GPU",
    "colab": {
      "name": "NLP_Week4_Exercise_Shakespeare_Question.ipynb",
      "provenance": [],
      "toc_visible": true
    },
    "kernelspec": {
      "display_name": "Python 3",
      "name": "python3"
    }
  },
  "cells": [
    {
      "cell_type": "code",
      "metadata": {
        "id": "zX4Kg8DUTKWO",
        "colab_type": "code",
        "colab": {}
      },
      "source": [
        "#@title Licensed under the Apache License, Version 2.0 (the \"License\");\n",
        "# you may not use this file except in compliance with the License.\n",
        "# You may obtain a copy of the License at\n",
        "#\n",
        "# https://www.apache.org/licenses/LICENSE-2.0\n",
        "#\n",
        "# Unless required by applicable law or agreed to in writing, software\n",
        "# distributed under the License is distributed on an \"AS IS\" BASIS,\n",
        "# WITHOUT WARRANTIES OR CONDITIONS OF ANY KIND, either express or implied.\n",
        "# See the License for the specific language governing permissions and\n",
        "# limitations under the License."
      ],
      "execution_count": 0,
      "outputs": []
    },
    {
      "cell_type": "code",
      "metadata": {
        "colab_type": "code",
        "id": "BOwsuGQQY9OL",
        "colab": {}
      },
      "source": [
        "from tensorflow.keras.preprocessing.sequence import pad_sequences\n",
        "from tensorflow.keras.layers import Embedding, LSTM, Dense, Dropout, Bidirectional\n",
        "from tensorflow.keras.preprocessing.text import Tokenizer\n",
        "from tensorflow.keras.models import Sequential\n",
        "from tensorflow.keras.optimizers import Adam\n",
        "### YOUR CODE HERE\n",
        "# Figure out how to import regularizers\n",
        "from tensorflow.keras import regularizers\n",
        "###\n",
        "import tensorflow.keras.utils as ku \n",
        "import numpy as np "
      ],
      "execution_count": 0,
      "outputs": []
    },
    {
      "cell_type": "code",
      "metadata": {
        "colab_type": "code",
        "id": "PRnDnCW-Z7qv",
        "colab": {
          "base_uri": "https://localhost:8080/",
          "height": 217
        },
        "outputId": "88063a41-79c7-43ce-f388-61b7448509eb"
      },
      "source": [
        "tokenizer = Tokenizer()\n",
        "!wget --no-check-certificate \\\n",
        "    https://storage.googleapis.com/laurencemoroney-blog.appspot.com/sonnets.txt \\\n",
        "    -O /tmp/sonnets.txt\n",
        "data = open('/tmp/sonnets.txt').read()\n",
        "\n",
        "corpus = data.lower().split(\"\\n\")\n",
        "\n",
        "\n",
        "tokenizer.fit_on_texts(corpus)\n",
        "total_words = len(tokenizer.word_index) + 1\n",
        "\n",
        "# create input sequences using list of tokens\n",
        "input_sequences = []\n",
        "for line in corpus:\n",
        "\ttoken_list = tokenizer.texts_to_sequences([line])[0]\n",
        "\tfor i in range(1, len(token_list)):\n",
        "\t\tn_gram_sequence = token_list[:i+1]\n",
        "\t\tinput_sequences.append(n_gram_sequence)\n",
        "\n",
        "\n",
        "# pad sequences \n",
        "max_sequence_len = max([len(x) for x in input_sequences])\n",
        "input_sequences = np.array(pad_sequences(input_sequences, maxlen=max_sequence_len, padding='pre'))\n",
        "\n",
        "# create predictors and label\n",
        "predictors, label = input_sequences[:,:-1],input_sequences[:,-1]\n",
        "\n",
        "label = ku.to_categorical(label, num_classes=total_words)"
      ],
      "execution_count": 79,
      "outputs": [
        {
          "output_type": "stream",
          "text": [
            "--2020-05-22 12:51:28--  https://storage.googleapis.com/laurencemoroney-blog.appspot.com/sonnets.txt\n",
            "Resolving storage.googleapis.com (storage.googleapis.com)... 74.125.204.128, 2404:6800:4008:c04::80\n",
            "Connecting to storage.googleapis.com (storage.googleapis.com)|74.125.204.128|:443... connected.\n",
            "HTTP request sent, awaiting response... 200 OK\n",
            "Length: 93578 (91K) [text/plain]\n",
            "Saving to: ‘/tmp/sonnets.txt’\n",
            "\n",
            "\r/tmp/sonnets.txt      0%[                    ]       0  --.-KB/s               \r/tmp/sonnets.txt    100%[===================>]  91.38K  --.-KB/s    in 0.001s  \n",
            "\n",
            "2020-05-22 12:51:28 (95.4 MB/s) - ‘/tmp/sonnets.txt’ saved [93578/93578]\n",
            "\n"
          ],
          "name": "stdout"
        }
      ]
    },
    {
      "cell_type": "code",
      "metadata": {
        "colab_type": "code",
        "id": "w9vH8Y59ajYL",
        "colab": {
          "base_uri": "https://localhost:8080/",
          "height": 399
        },
        "outputId": "6eca425d-5230-4cf6-ff5f-a5c3f93d548e"
      },
      "source": [
        "model = Sequential()\n",
        "model.add(Embedding(total_words, 200, input_length= max_sequence_len-1))   # Your Embedding Layer\n",
        "model.add(Bidirectional(LSTM(200, return_sequences= True)))   # An LSTM Layer\n",
        "model.add(Dropout(0.2))   # A dropout layer\n",
        "model.add(Bidirectional(GRU(150)))   # Another LSTM Layer\n",
        "model.add(Dense(total_words/2, activation= 'relu', kernel_regularizer=regularizers.l2(0.01)))   # A Dense Layer including regularizers\n",
        "model.add(Dense(total_words, activation= 'softmax'))   # A Dense Layer\n",
        "# Pick an optimizer\n",
        "model.compile(loss= 'categorical_crossentropy', optimizer= Adam(learning_rate= 0.001), metrics= ['accuracy'])   # Pick a loss function and an optimizer\n",
        "print(model.summary())\n"
      ],
      "execution_count": 80,
      "outputs": [
        {
          "output_type": "stream",
          "text": [
            "Model: \"sequential_30\"\n",
            "_________________________________________________________________\n",
            "Layer (type)                 Output Shape              Param #   \n",
            "=================================================================\n",
            "embedding_29 (Embedding)     (None, 10, 200)           642200    \n",
            "_________________________________________________________________\n",
            "bidirectional_48 (Bidirectio (None, 10, 400)           641600    \n",
            "_________________________________________________________________\n",
            "dropout_29 (Dropout)         (None, 10, 400)           0         \n",
            "_________________________________________________________________\n",
            "bidirectional_49 (Bidirectio (None, 300)               496800    \n",
            "_________________________________________________________________\n",
            "dense_53 (Dense)             (None, 1605)              483105    \n",
            "_________________________________________________________________\n",
            "dense_54 (Dense)             (None, 3211)              5156866   \n",
            "=================================================================\n",
            "Total params: 7,420,571\n",
            "Trainable params: 7,420,571\n",
            "Non-trainable params: 0\n",
            "_________________________________________________________________\n",
            "None\n"
          ],
          "name": "stdout"
        }
      ]
    },
    {
      "cell_type": "code",
      "metadata": {
        "colab_type": "code",
        "id": "AIg2f1HBxqof",
        "colab": {
          "base_uri": "https://localhost:8080/",
          "height": 1000
        },
        "outputId": "de1f468b-c536-4314-aaff-9de9a6c836ea"
      },
      "source": [
        " history = model.fit(predictors, label, epochs=100, verbose=1)"
      ],
      "execution_count": 81,
      "outputs": [
        {
          "output_type": "stream",
          "text": [
            "Epoch 1/100\n",
            "484/484 [==============================] - 17s 35ms/step - loss: 7.0197 - accuracy: 0.0235\n",
            "Epoch 2/100\n",
            "484/484 [==============================] - 17s 35ms/step - loss: 6.4859 - accuracy: 0.0243\n",
            "Epoch 3/100\n",
            "484/484 [==============================] - 17s 35ms/step - loss: 6.3235 - accuracy: 0.0308\n",
            "Epoch 4/100\n",
            "484/484 [==============================] - 17s 35ms/step - loss: 6.1725 - accuracy: 0.0366\n",
            "Epoch 5/100\n",
            "484/484 [==============================] - 17s 35ms/step - loss: 6.0376 - accuracy: 0.0422\n",
            "Epoch 6/100\n",
            "484/484 [==============================] - 17s 34ms/step - loss: 5.8850 - accuracy: 0.0532\n",
            "Epoch 7/100\n",
            "484/484 [==============================] - 17s 35ms/step - loss: 5.7316 - accuracy: 0.0627\n",
            "Epoch 8/100\n",
            "484/484 [==============================] - 17s 35ms/step - loss: 5.5915 - accuracy: 0.0713\n",
            "Epoch 9/100\n",
            "484/484 [==============================] - 17s 35ms/step - loss: 5.4471 - accuracy: 0.0829\n",
            "Epoch 10/100\n",
            "484/484 [==============================] - 17s 34ms/step - loss: 5.2946 - accuracy: 0.0927\n",
            "Epoch 11/100\n",
            "484/484 [==============================] - 17s 34ms/step - loss: 5.1380 - accuracy: 0.1057\n",
            "Epoch 12/100\n",
            "484/484 [==============================] - 17s 34ms/step - loss: 4.9747 - accuracy: 0.1179\n",
            "Epoch 13/100\n",
            "484/484 [==============================] - 17s 34ms/step - loss: 4.8119 - accuracy: 0.1293\n",
            "Epoch 14/100\n",
            "484/484 [==============================] - 17s 34ms/step - loss: 4.6428 - accuracy: 0.1462\n",
            "Epoch 15/100\n",
            "484/484 [==============================] - 17s 34ms/step - loss: 4.4695 - accuracy: 0.1627\n",
            "Epoch 16/100\n",
            "484/484 [==============================] - 17s 34ms/step - loss: 4.3010 - accuracy: 0.1842\n",
            "Epoch 17/100\n",
            "484/484 [==============================] - 17s 34ms/step - loss: 4.1283 - accuracy: 0.2008\n",
            "Epoch 18/100\n",
            "484/484 [==============================] - 17s 34ms/step - loss: 3.9674 - accuracy: 0.2258\n",
            "Epoch 19/100\n",
            "484/484 [==============================] - 17s 34ms/step - loss: 3.7967 - accuracy: 0.2498\n",
            "Epoch 20/100\n",
            "484/484 [==============================] - 17s 34ms/step - loss: 3.6364 - accuracy: 0.2747\n",
            "Epoch 21/100\n",
            "484/484 [==============================] - 17s 34ms/step - loss: 3.4727 - accuracy: 0.3104\n",
            "Epoch 22/100\n",
            "484/484 [==============================] - 17s 34ms/step - loss: 3.3276 - accuracy: 0.3410\n",
            "Epoch 23/100\n",
            "484/484 [==============================] - 17s 34ms/step - loss: 3.1845 - accuracy: 0.3701\n",
            "Epoch 24/100\n",
            "484/484 [==============================] - 17s 34ms/step - loss: 3.0349 - accuracy: 0.4005\n",
            "Epoch 25/100\n",
            "484/484 [==============================] - 17s 35ms/step - loss: 2.9010 - accuracy: 0.4338\n",
            "Epoch 26/100\n",
            "484/484 [==============================] - 17s 35ms/step - loss: 2.7818 - accuracy: 0.4638\n",
            "Epoch 27/100\n",
            "484/484 [==============================] - 17s 35ms/step - loss: 2.6553 - accuracy: 0.4955\n",
            "Epoch 28/100\n",
            "484/484 [==============================] - 17s 34ms/step - loss: 2.5412 - accuracy: 0.5223\n",
            "Epoch 29/100\n",
            "484/484 [==============================] - 17s 35ms/step - loss: 2.4271 - accuracy: 0.5488\n",
            "Epoch 30/100\n",
            "484/484 [==============================] - 17s 34ms/step - loss: 2.3174 - accuracy: 0.5758\n",
            "Epoch 31/100\n",
            "484/484 [==============================] - 17s 35ms/step - loss: 2.2294 - accuracy: 0.5999\n",
            "Epoch 32/100\n",
            "484/484 [==============================] - 17s 34ms/step - loss: 2.1382 - accuracy: 0.6211\n",
            "Epoch 33/100\n",
            "484/484 [==============================] - 16s 34ms/step - loss: 2.0483 - accuracy: 0.6392\n",
            "Epoch 34/100\n",
            "484/484 [==============================] - 16s 34ms/step - loss: 1.9783 - accuracy: 0.6600\n",
            "Epoch 35/100\n",
            "484/484 [==============================] - 17s 34ms/step - loss: 1.8959 - accuracy: 0.6694\n",
            "Epoch 36/100\n",
            "484/484 [==============================] - 17s 34ms/step - loss: 1.8312 - accuracy: 0.6876\n",
            "Epoch 37/100\n",
            "484/484 [==============================] - 17s 34ms/step - loss: 1.7668 - accuracy: 0.7006\n",
            "Epoch 38/100\n",
            "484/484 [==============================] - 16s 34ms/step - loss: 1.7100 - accuracy: 0.7150\n",
            "Epoch 39/100\n",
            "484/484 [==============================] - 17s 34ms/step - loss: 1.6672 - accuracy: 0.7205\n",
            "Epoch 40/100\n",
            "484/484 [==============================] - 17s 35ms/step - loss: 1.6338 - accuracy: 0.7251\n",
            "Epoch 41/100\n",
            "484/484 [==============================] - 17s 34ms/step - loss: 1.5776 - accuracy: 0.7365\n",
            "Epoch 42/100\n",
            "484/484 [==============================] - 17s 34ms/step - loss: 1.5251 - accuracy: 0.7454\n",
            "Epoch 43/100\n",
            "484/484 [==============================] - 17s 34ms/step - loss: 1.4906 - accuracy: 0.7522\n",
            "Epoch 44/100\n",
            "484/484 [==============================] - 17s 34ms/step - loss: 1.4511 - accuracy: 0.7622\n",
            "Epoch 45/100\n",
            "484/484 [==============================] - 17s 34ms/step - loss: 1.4310 - accuracy: 0.7650\n",
            "Epoch 46/100\n",
            "484/484 [==============================] - 17s 35ms/step - loss: 1.3779 - accuracy: 0.7747\n",
            "Epoch 47/100\n",
            "484/484 [==============================] - 17s 34ms/step - loss: 1.3760 - accuracy: 0.7721\n",
            "Epoch 48/100\n",
            "484/484 [==============================] - 17s 34ms/step - loss: 1.3489 - accuracy: 0.7751\n",
            "Epoch 49/100\n",
            "484/484 [==============================] - 17s 34ms/step - loss: 1.3204 - accuracy: 0.7789\n",
            "Epoch 50/100\n",
            "484/484 [==============================] - 17s 34ms/step - loss: 1.2936 - accuracy: 0.7858\n",
            "Epoch 51/100\n",
            "484/484 [==============================] - 16s 34ms/step - loss: 1.2644 - accuracy: 0.7938\n",
            "Epoch 52/100\n",
            "484/484 [==============================] - 16s 34ms/step - loss: 1.2467 - accuracy: 0.7947\n",
            "Epoch 53/100\n",
            "484/484 [==============================] - 17s 34ms/step - loss: 1.2241 - accuracy: 0.7985\n",
            "Epoch 54/100\n",
            "484/484 [==============================] - 16s 34ms/step - loss: 1.2121 - accuracy: 0.8003\n",
            "Epoch 55/100\n",
            "484/484 [==============================] - 17s 35ms/step - loss: 1.2181 - accuracy: 0.7932\n",
            "Epoch 56/100\n",
            "484/484 [==============================] - 17s 34ms/step - loss: 1.1893 - accuracy: 0.8009\n",
            "Epoch 57/100\n",
            "484/484 [==============================] - 16s 34ms/step - loss: 1.1643 - accuracy: 0.8030\n",
            "Epoch 58/100\n",
            "484/484 [==============================] - 17s 34ms/step - loss: 1.1608 - accuracy: 0.8058\n",
            "Epoch 59/100\n",
            "484/484 [==============================] - 17s 34ms/step - loss: 1.1405 - accuracy: 0.8077\n",
            "Epoch 60/100\n",
            "484/484 [==============================] - 17s 35ms/step - loss: 1.1495 - accuracy: 0.8033\n",
            "Epoch 61/100\n",
            "484/484 [==============================] - 17s 35ms/step - loss: 1.1328 - accuracy: 0.8081\n",
            "Epoch 62/100\n",
            "484/484 [==============================] - 17s 35ms/step - loss: 1.0932 - accuracy: 0.8163\n",
            "Epoch 63/100\n",
            "484/484 [==============================] - 17s 35ms/step - loss: 1.0818 - accuracy: 0.8147\n",
            "Epoch 64/100\n",
            "484/484 [==============================] - 17s 35ms/step - loss: 1.0902 - accuracy: 0.8146\n",
            "Epoch 65/100\n",
            "484/484 [==============================] - 17s 35ms/step - loss: 1.1057 - accuracy: 0.8087\n",
            "Epoch 66/100\n",
            "484/484 [==============================] - 17s 35ms/step - loss: 1.0994 - accuracy: 0.8092\n",
            "Epoch 67/100\n",
            "484/484 [==============================] - 17s 35ms/step - loss: 1.0787 - accuracy: 0.8157\n",
            "Epoch 68/100\n",
            "484/484 [==============================] - 17s 35ms/step - loss: 1.0526 - accuracy: 0.8169\n",
            "Epoch 69/100\n",
            "484/484 [==============================] - 17s 35ms/step - loss: 1.0504 - accuracy: 0.8189\n",
            "Epoch 70/100\n",
            "484/484 [==============================] - 17s 35ms/step - loss: 1.0461 - accuracy: 0.8167\n",
            "Epoch 71/100\n",
            "484/484 [==============================] - 17s 35ms/step - loss: 1.0400 - accuracy: 0.8188\n",
            "Epoch 72/100\n",
            "484/484 [==============================] - 17s 35ms/step - loss: 1.0177 - accuracy: 0.8247\n",
            "Epoch 73/100\n",
            "484/484 [==============================] - 17s 35ms/step - loss: 1.0148 - accuracy: 0.8217\n",
            "Epoch 74/100\n",
            "484/484 [==============================] - 17s 35ms/step - loss: 1.0164 - accuracy: 0.8213\n",
            "Epoch 75/100\n",
            "484/484 [==============================] - 17s 35ms/step - loss: 0.9933 - accuracy: 0.8232\n",
            "Epoch 76/100\n",
            "484/484 [==============================] - 17s 35ms/step - loss: 0.9928 - accuracy: 0.8265\n",
            "Epoch 77/100\n",
            "484/484 [==============================] - 17s 35ms/step - loss: 0.9945 - accuracy: 0.8258\n",
            "Epoch 78/100\n",
            "484/484 [==============================] - 17s 35ms/step - loss: 0.9997 - accuracy: 0.8204\n",
            "Epoch 79/100\n",
            "484/484 [==============================] - 17s 35ms/step - loss: 0.9903 - accuracy: 0.8236\n",
            "Epoch 80/100\n",
            "484/484 [==============================] - 17s 35ms/step - loss: 0.9967 - accuracy: 0.8224\n",
            "Epoch 81/100\n",
            "484/484 [==============================] - 17s 35ms/step - loss: 0.9704 - accuracy: 0.8282\n",
            "Epoch 82/100\n",
            "484/484 [==============================] - 17s 35ms/step - loss: 0.9611 - accuracy: 0.8277\n",
            "Epoch 83/100\n",
            "484/484 [==============================] - 17s 35ms/step - loss: 0.9599 - accuracy: 0.8264\n",
            "Epoch 84/100\n",
            "484/484 [==============================] - 17s 35ms/step - loss: 0.9611 - accuracy: 0.8269\n",
            "Epoch 85/100\n",
            "484/484 [==============================] - 17s 34ms/step - loss: 0.9519 - accuracy: 0.8271\n",
            "Epoch 86/100\n",
            "484/484 [==============================] - 17s 34ms/step - loss: 0.9650 - accuracy: 0.8226\n",
            "Epoch 87/100\n",
            "484/484 [==============================] - 17s 35ms/step - loss: 0.9693 - accuracy: 0.8246\n",
            "Epoch 88/100\n",
            "484/484 [==============================] - 17s 35ms/step - loss: 0.9728 - accuracy: 0.8241\n",
            "Epoch 89/100\n",
            "484/484 [==============================] - 17s 34ms/step - loss: 0.9478 - accuracy: 0.8274\n",
            "Epoch 90/100\n",
            "484/484 [==============================] - 17s 35ms/step - loss: 0.9263 - accuracy: 0.8293\n",
            "Epoch 91/100\n",
            "484/484 [==============================] - 17s 35ms/step - loss: 0.9387 - accuracy: 0.8286\n",
            "Epoch 92/100\n",
            "484/484 [==============================] - 17s 35ms/step - loss: 0.9515 - accuracy: 0.8240\n",
            "Epoch 93/100\n",
            "484/484 [==============================] - 17s 35ms/step - loss: 0.9269 - accuracy: 0.8292\n",
            "Epoch 94/100\n",
            "484/484 [==============================] - 17s 36ms/step - loss: 0.9337 - accuracy: 0.8281\n",
            "Epoch 95/100\n",
            "484/484 [==============================] - 17s 35ms/step - loss: 0.9481 - accuracy: 0.8243\n",
            "Epoch 96/100\n",
            "484/484 [==============================] - 17s 35ms/step - loss: 0.9222 - accuracy: 0.8291\n",
            "Epoch 97/100\n",
            "484/484 [==============================] - 17s 35ms/step - loss: 0.9233 - accuracy: 0.8264\n",
            "Epoch 98/100\n",
            "484/484 [==============================] - 17s 35ms/step - loss: 0.9004 - accuracy: 0.8313\n",
            "Epoch 99/100\n",
            "484/484 [==============================] - 17s 35ms/step - loss: 0.9058 - accuracy: 0.8303\n",
            "Epoch 100/100\n",
            "484/484 [==============================] - 17s 35ms/step - loss: 0.9078 - accuracy: 0.8304\n"
          ],
          "name": "stdout"
        }
      ]
    },
    {
      "cell_type": "code",
      "metadata": {
        "colab_type": "code",
        "id": "1fXTEO3GJ282",
        "colab": {
          "base_uri": "https://localhost:8080/",
          "height": 545
        },
        "outputId": "2ab275bd-5b1c-47bb-e409-089ad2ea8f95"
      },
      "source": [
        "import matplotlib.pyplot as plt\n",
        "acc = history.history['accuracy']\n",
        "loss = history.history['loss']\n",
        "\n",
        "epochs = range(len(acc))\n",
        "\n",
        "plt.plot(epochs, acc, 'b', label='Training accuracy')\n",
        "plt.title('Training accuracy')\n",
        "\n",
        "plt.figure()\n",
        "\n",
        "plt.plot(epochs, loss, 'b', label='Training Loss')\n",
        "plt.title('Training loss')\n",
        "plt.legend()\n",
        "\n",
        "plt.show()"
      ],
      "execution_count": 82,
      "outputs": [
        {
          "output_type": "display_data",
          "data": {
            "image/png": "[encoded data removed]",
            "text/plain": [
              "<Figure size 432x288 with 1 Axes>"
            ]
          },
          "metadata": {
            "tags": [],
            "needs_background": "light"
          }
        },
        {
          "output_type": "display_data",
          "data": {
            "image/png": "[encoded data removed]",
            "text/plain": [
              "<Figure size 432x288 with 1 Axes>"
            ]
          },
          "metadata": {
            "tags": [],
            "needs_background": "light"
          }
        }
      ]
    },
    {
      "cell_type": "code",
      "metadata": {
        "colab_type": "code",
        "id": "6Vc6PHgxa6Hm",
        "colab": {
          "base_uri": "https://localhost:8080/",
          "height": 110
        },
        "outputId": "bc66de66-1c89-424e-e747-d99a6f5f6bb4"
      },
      "source": [
        "seed_text = \"Help me Obi Wan Kenobi, you're my only hope\"\n",
        "next_words = 100\n",
        "  \n",
        "for _ in range(next_words):\n",
        "\ttoken_list = tokenizer.texts_to_sequences([seed_text])[0]\n",
        "\ttoken_list = pad_sequences([token_list], maxlen=max_sequence_len-1, padding='pre')\n",
        "\tpredicted = model.predict_classes(token_list, verbose=0)\n",
        "\toutput_word = \"\"\n",
        "\tfor word, index in tokenizer.word_index.items():\n",
        "\t\tif index == predicted:\n",
        "\t\t\toutput_word = word\n",
        "\t\t\tbreak\n",
        "\tseed_text += \" \" + output_word\n",
        "print(seed_text)"
      ],
      "execution_count": 83,
      "outputs": [
        {
          "output_type": "stream",
          "text": [
            "WARNING:tensorflow:From <ipython-input-83-622d307fa19a>:7: Sequential.predict_classes (from tensorflow.python.keras.engine.sequential) is deprecated and will be removed after 2021-01-01.\n",
            "Instructions for updating:\n",
            "Please use instead:* `np.argmax(model.predict(x), axis=-1)`,   if your model does multi-class classification   (e.g. if it uses a `softmax` last-layer activation).* `(model.predict(x) > 0.5).astype(\"int32\")`,   if your model does binary classification   (e.g. if it uses a `sigmoid` last-layer activation).\n",
            "Help me Obi Wan Kenobi, you're my only hope one youth with his sight did quickly steep hate light go report esteem survey report suppress'd gone not with me we dost dispense hide me know be name and thought so blessed fears i chide your delight survey date spite of nought now go esteem crush'd and a ground smoke sit appear smoke hence bow burn that i'll frailer spies knife spent set some sight so view but taken bow moan of crime thee his song might please his store he takes appear dead sit bow sit borrow'd new gift be dead most place and that i know not me\n"
          ],
          "name": "stdout"
        }
      ]
    }
  ]
}