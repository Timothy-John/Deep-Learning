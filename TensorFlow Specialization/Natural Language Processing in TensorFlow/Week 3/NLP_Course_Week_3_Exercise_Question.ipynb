{
  "nbformat": 4,
  "nbformat_minor": 0,
  "metadata": {
    "accelerator": "GPU",
    "colab": {
      "name": "NLP Course - Week 3 Exercise Question.ipynb",
      "provenance": [],
      "toc_visible": true
    },
    "kernelspec": {
      "display_name": "Python 3",
      "name": "python3"
    }
  },
  "cells": [
    {
      "cell_type": "code",
      "metadata": {
        "id": "zX4Kg8DUTKWO",
        "colab_type": "code",
        "colab": {}
      },
      "source": [
        "#@title Licensed under the Apache License, Version 2.0 (the \"License\");\n",
        "# you may not use this file except in compliance with the License.\n",
        "# You may obtain a copy of the License at\n",
        "#\n",
        "# https://www.apache.org/licenses/LICENSE-2.0\n",
        "#\n",
        "# Unless required by applicable law or agreed to in writing, software\n",
        "# distributed under the License is distributed on an \"AS IS\" BASIS,\n",
        "# WITHOUT WARRANTIES OR CONDITIONS OF ANY KIND, either express or implied.\n",
        "# See the License for the specific language governing permissions and\n",
        "# limitations under the License."
      ],
      "execution_count": 0,
      "outputs": []
    },
    {
      "cell_type": "code",
      "metadata": {
        "colab_type": "code",
        "id": "hmA6EzkQJ5jt",
        "colab": {}
      },
      "source": [
        "import json\n",
        "import tensorflow as tf\n",
        "import csv\n",
        "import random\n",
        "import numpy as np\n",
        "\n",
        "from tensorflow.keras.preprocessing.text import Tokenizer\n",
        "from tensorflow.keras.preprocessing.sequence import pad_sequences\n",
        "from tensorflow.keras.utils import to_categorical\n",
        "from tensorflow.keras import regularizers\n",
        "\n",
        "\n",
        "embedding_dim = 100\n",
        "max_length = 16\n",
        "trunc_type='post'\n",
        "padding_type='post'\n",
        "oov_tok = \"<OOV>\"\n",
        "training_size= 160000  #Your dataset size here. Experiment using smaller values (i.e. 16000), but don't forget to train on at least 160000 to see the best effects\n",
        "test_portion=.1\n",
        "\n",
        "corpus = []\n"
      ],
      "execution_count": 0,
      "outputs": []
    },
    {
      "cell_type": "code",
      "metadata": {
        "colab_type": "code",
        "id": "bM0l_dORKqE0",
        "outputId": "05d66258-1169-4699-a05b-6791b4b6444e",
        "colab": {
          "base_uri": "https://localhost:8080/",
          "height": 237
        }
      },
      "source": [
        "# Note that I cleaned the Stanford dataset to remove LATIN1 encoding to make it easier for Python CSV reader\n",
        "# You can do that yourself with:\n",
        "# iconv -f LATIN1 -t UTF8 training.1600000.processed.noemoticon.csv -o training_cleaned.csv\n",
        "# I then hosted it on my site to make it easier to use in this notebook\n",
        "\n",
        "!wget --no-check-certificate \\\n",
        "    https://storage.googleapis.com/laurencemoroney-blog.appspot.com/training_cleaned.csv \\\n",
        "    -O /tmp/training_cleaned.csv\n",
        "\n",
        "num_sentences = 0\n",
        "\n",
        "with open(\"/tmp/training_cleaned.csv\") as csvfile:\n",
        "    reader = csv.reader(csvfile, delimiter=',')\n",
        "    for row in reader:\n",
        "      # Your Code here. Create list items where the first item is the text, found in row[5], and the second is the label. Note that the label is a '0' or a '4' in the text. When it's the former, make\n",
        "      # your label to be 0, otherwise 1. Keep a count of the number of sentences in num_sentences\n",
        "        list_item=[]\n",
        "        list_item.append(row[5])    # YOUR CODE HERE\n",
        "        sen_label = row[0]\n",
        "        if sen_label == '0':\n",
        "            list_item.append(0)\n",
        "        else :\n",
        "            list_item.append(1)\n",
        "        num_sentences = num_sentences + 1\n",
        "        corpus.append(list_item)\n"
      ],
      "execution_count": 41,
      "outputs": [
        {
          "output_type": "stream",
          "text": [
            "--2020-05-22 10:00:53--  https://storage.googleapis.com/laurencemoroney-blog.appspot.com/training_cleaned.csv\n",
            "Resolving storage.googleapis.com (storage.googleapis.com)... 74.125.31.128, 2607:f8b0:400c:c07::80\n",
            "Connecting to storage.googleapis.com (storage.googleapis.com)|74.125.31.128|:443... connected.\n",
            "HTTP request sent, awaiting response... 200 OK\n",
            "Length: 238942690 (228M) [application/octet-stream]\n",
            "Saving to: ‘/tmp/training_cleaned.csv’\n",
            "\n",
            "/tmp/training_clean 100%[===================>] 227.87M   191MB/s    in 1.2s    \n",
            "\n",
            "2020-05-22 10:00:55 (191 MB/s) - ‘/tmp/training_cleaned.csv’ saved [238942690/238942690]\n",
            "\n"
          ],
          "name": "stdout"
        }
      ]
    },
    {
      "cell_type": "code",
      "metadata": {
        "colab_type": "code",
        "id": "3kxblBUjEUX-",
        "outputId": "42e1a4c2-9874-48c2-8a50-1d46cab4c999",
        "colab": {
          "base_uri": "https://localhost:8080/",
          "height": 92
        }
      },
      "source": [
        "print(num_sentences)\n",
        "print(len(corpus))\n",
        "print(corpus[1])\n",
        "\n",
        "# Expected Output:\n",
        "# 1600000\n",
        "# 1600000\n",
        "# [\"is upset that he can't update his Facebook by texting it... and might cry as a result  School today also. Blah!\", 0]"
      ],
      "execution_count": 42,
      "outputs": [
        {
          "output_type": "stream",
          "text": [
            "1600000\n",
            "1600000\n",
            "[\"is upset that he can't update his Facebook by texting it... and might cry as a result  School today also. Blah!\", 0]\n"
          ],
          "name": "stdout"
        }
      ]
    },
    {
      "cell_type": "code",
      "metadata": {
        "colab_type": "code",
        "id": "ohOGz24lsNAD",
        "colab": {}
      },
      "source": [
        "sentences=[]\n",
        "labels=[]\n",
        "random.shuffle(corpus)\n",
        "for x in range(training_size):\n",
        "    sentences.append(corpus[x][0])    # YOUR CODE HERE\n",
        "    labels.append(corpus[x][1])       # YOUR CODE HERE\n",
        "\n",
        "\n",
        "tokenizer = Tokenizer()\n",
        "tokenizer.fit_on_texts(sentences)    # YOUR CODE HERE\n",
        "\n",
        "word_index = tokenizer.word_index\n",
        "vocab_size=len(word_index)           # YOUR CODE HERE\n",
        "\n",
        "sequences = tokenizer.texts_to_sequences(sentences)    # YOUR CODE HERE\n",
        "padded = pad_sequences(sequences, maxlen= max_length, padding= padding_type, truncating= trunc_type)    # YOUR CODE HERE\n",
        "\n",
        "split = int(test_portion * training_size)\n",
        "\n",
        "test_sequences = padded[: split]      # YOUR CODE HERE\n",
        "training_sequences = padded[split :]  # YOUR CODE HERE\n",
        "test_labels = np.array(labels[: split])         # YOUR CODE HERE\n",
        "training_labels = np.array(labels[split :])     # YOUR CODE HERE"
      ],
      "execution_count": 0,
      "outputs": []
    },
    {
      "cell_type": "code",
      "metadata": {
        "colab_type": "code",
        "id": "gIrtRem1En3N",
        "outputId": "13a16c90-5f80-4448-89d2-852574f98297",
        "colab": {
          "base_uri": "https://localhost:8080/",
          "height": 54
        }
      },
      "source": [
        "print(vocab_size)\n",
        "print(word_index['i'])\n",
        "# Expected Output\n",
        "# 138858\n",
        "# 1"
      ],
      "execution_count": 44,
      "outputs": [
        {
          "output_type": "stream",
          "text": [
            "138211\n",
            "1\n"
          ],
          "name": "stdout"
        }
      ]
    },
    {
      "cell_type": "code",
      "metadata": {
        "colab_type": "code",
        "id": "C1zdgJkusRh0",
        "outputId": "fdd125da-ee10-4a67-c4c8-4a44a78dedcf",
        "colab": {
          "base_uri": "https://localhost:8080/",
          "height": 217
        }
      },
      "source": [
        "# Note this is the 100 dimension version of GloVe from Stanford\n",
        "# I unzipped and hosted it on my site to make this notebook easier\n",
        "!wget --no-check-certificate \\\n",
        "    https://storage.googleapis.com/laurencemoroney-blog.appspot.com/glove.6B.100d.txt \\\n",
        "    -O /tmp/glove.6B.100d.txt\n",
        "embeddings_index = {};\n",
        "with open('/tmp/glove.6B.100d.txt') as f:\n",
        "    for line in f:\n",
        "        values = line.split();\n",
        "        word = values[0];\n",
        "        coefs = np.asarray(values[1:], dtype='float32');\n",
        "        embeddings_index[word] = coefs;\n",
        "\n",
        "embeddings_matrix = np.zeros((vocab_size+1, embedding_dim));\n",
        "for word, i in word_index.items():\n",
        "    embedding_vector = embeddings_index.get(word);\n",
        "    if embedding_vector is not None:\n",
        "        embeddings_matrix[i] = embedding_vector;"
      ],
      "execution_count": 45,
      "outputs": [
        {
          "output_type": "stream",
          "text": [
            "--2020-05-22 10:01:10--  https://storage.googleapis.com/laurencemoroney-blog.appspot.com/glove.6B.100d.txt\n",
            "Resolving storage.googleapis.com (storage.googleapis.com)... 142.250.98.128, 2607:f8b0:400c:c07::80\n",
            "Connecting to storage.googleapis.com (storage.googleapis.com)|142.250.98.128|:443... connected.\n",
            "HTTP request sent, awaiting response... 200 OK\n",
            "Length: 347116733 (331M) [text/plain]\n",
            "Saving to: ‘/tmp/glove.6B.100d.txt’\n",
            "\n",
            "/tmp/glove.6B.100d. 100%[===================>] 331.04M   164MB/s    in 2.0s    \n",
            "\n",
            "2020-05-22 10:01:13 (164 MB/s) - ‘/tmp/glove.6B.100d.txt’ saved [347116733/347116733]\n",
            "\n"
          ],
          "name": "stdout"
        }
      ]
    },
    {
      "cell_type": "code",
      "metadata": {
        "colab_type": "code",
        "id": "71NLk_lpFLNt",
        "outputId": "6ecb6407-94ac-4955-e263-f4ed99b6d132",
        "colab": {
          "base_uri": "https://localhost:8080/",
          "height": 35
        }
      },
      "source": [
        "print(len(embeddings_matrix))\n",
        "# Expected Output\n",
        "# 138859"
      ],
      "execution_count": 46,
      "outputs": [
        {
          "output_type": "stream",
          "text": [
            "138212\n"
          ],
          "name": "stdout"
        }
      ]
    },
    {
      "cell_type": "code",
      "metadata": {
        "colab_type": "code",
        "id": "iKKvbuEBOGFz",
        "colab": {
          "base_uri": "https://localhost:8080/",
          "height": 1000
        },
        "outputId": "ab7edd3b-c4e5-4563-a70a-1c23262a9078"
      },
      "source": [
        "model = tf.keras.Sequential([\n",
        "    tf.keras.layers.Embedding(vocab_size+1, embedding_dim, input_length=max_length, weights=[embeddings_matrix], trainable=False),\n",
        "    tf.keras.layers.Dropout(0.2),\n",
        "    tf.keras.layers.Conv1D(64, 5, activation='relu'),\n",
        "    tf.keras.layers.AveragePooling1D(pool_size=4),\n",
        "    tf.keras.layers.Bidirectional(tf.keras.layers.LSTM(64, return_sequences= True)),\n",
        "    tf.keras.layers.Bidirectional(tf.keras.layers.LSTM(128, return_sequences= True)),\n",
        "    tf.keras.layers.Bidirectional(tf.keras.layers.LSTM(128)),\n",
        "    tf.keras.layers.Dense(32, activation= 'relu'),\n",
        "    tf.keras.layers.Dense(1, activation= 'sigmoid')   # YOUR CODE HERE - experiment with combining different types, such as convolutions and LSTMs\n",
        "                            ])\n",
        "model.compile(loss= 'binary_crossentropy', optimizer= 'adam', metrics= ['accuracy'])    # YOUR CODE HERE\n",
        "model.summary()\n",
        "\n",
        "num_epochs = 50\n",
        "history = model.fit(training_sequences, training_labels, epochs=num_epochs, validation_data=(test_sequences, test_labels), verbose=2)\n",
        "\n",
        "print(\"Training Complete\")\n"
      ],
      "execution_count": 51,
      "outputs": [
        {
          "output_type": "stream",
          "text": [
            "Model: \"sequential_5\"\n",
            "_________________________________________________________________\n",
            "Layer (type)                 Output Shape              Param #   \n",
            "=================================================================\n",
            "embedding_5 (Embedding)      (None, 16, 100)           13821200  \n",
            "_________________________________________________________________\n",
            "dropout_3 (Dropout)          (None, 16, 100)           0         \n",
            "_________________________________________________________________\n",
            "conv1d_3 (Conv1D)            (None, 12, 64)            32064     \n",
            "_________________________________________________________________\n",
            "average_pooling1d_3 (Average (None, 3, 64)             0         \n",
            "_________________________________________________________________\n",
            "bidirectional_6 (Bidirection (None, 3, 128)            66048     \n",
            "_________________________________________________________________\n",
            "bidirectional_7 (Bidirection (None, 3, 256)            263168    \n",
            "_________________________________________________________________\n",
            "bidirectional_8 (Bidirection (None, 256)               394240    \n",
            "_________________________________________________________________\n",
            "dense_10 (Dense)             (None, 32)                8224      \n",
            "_________________________________________________________________\n",
            "dense_11 (Dense)             (None, 1)                 33        \n",
            "=================================================================\n",
            "Total params: 14,584,977\n",
            "Trainable params: 763,777\n",
            "Non-trainable params: 13,821,200\n",
            "_________________________________________________________________\n",
            "Epoch 1/50\n",
            "4500/4500 - 57s - loss: 0.5752 - accuracy: 0.6938 - val_loss: 0.5396 - val_accuracy: 0.7243\n",
            "Epoch 2/50\n",
            "4500/4500 - 55s - loss: 0.5314 - accuracy: 0.7302 - val_loss: 0.5180 - val_accuracy: 0.7391\n",
            "Epoch 3/50\n",
            "4500/4500 - 56s - loss: 0.5147 - accuracy: 0.7423 - val_loss: 0.5105 - val_accuracy: 0.7474\n",
            "Epoch 4/50\n",
            "4500/4500 - 55s - loss: 0.5038 - accuracy: 0.7498 - val_loss: 0.5011 - val_accuracy: 0.7489\n",
            "Epoch 5/50\n",
            "4500/4500 - 56s - loss: 0.4950 - accuracy: 0.7565 - val_loss: 0.5067 - val_accuracy: 0.7494\n",
            "Epoch 6/50\n",
            "4500/4500 - 56s - loss: 0.4883 - accuracy: 0.7585 - val_loss: 0.4978 - val_accuracy: 0.7541\n",
            "Epoch 7/50\n",
            "4500/4500 - 55s - loss: 0.4816 - accuracy: 0.7640 - val_loss: 0.4987 - val_accuracy: 0.7568\n",
            "Epoch 8/50\n",
            "4500/4500 - 55s - loss: 0.4775 - accuracy: 0.7675 - val_loss: 0.5009 - val_accuracy: 0.7542\n",
            "Epoch 9/50\n",
            "4500/4500 - 56s - loss: 0.4722 - accuracy: 0.7710 - val_loss: 0.4959 - val_accuracy: 0.7576\n",
            "Epoch 10/50\n",
            "4500/4500 - 55s - loss: 0.4689 - accuracy: 0.7726 - val_loss: 0.4975 - val_accuracy: 0.7549\n",
            "Epoch 11/50\n",
            "4500/4500 - 55s - loss: 0.4632 - accuracy: 0.7760 - val_loss: 0.4991 - val_accuracy: 0.7577\n",
            "Epoch 12/50\n",
            "4500/4500 - 54s - loss: 0.4602 - accuracy: 0.7780 - val_loss: 0.4980 - val_accuracy: 0.7562\n",
            "Epoch 13/50\n",
            "4500/4500 - 54s - loss: 0.4557 - accuracy: 0.7804 - val_loss: 0.4984 - val_accuracy: 0.7536\n",
            "Epoch 14/50\n",
            "4500/4500 - 55s - loss: 0.4534 - accuracy: 0.7824 - val_loss: 0.4996 - val_accuracy: 0.7569\n",
            "Epoch 15/50\n",
            "4500/4500 - 55s - loss: 0.4495 - accuracy: 0.7841 - val_loss: 0.4995 - val_accuracy: 0.7576\n",
            "Epoch 16/50\n",
            "4500/4500 - 55s - loss: 0.4456 - accuracy: 0.7865 - val_loss: 0.5086 - val_accuracy: 0.7469\n",
            "Epoch 17/50\n",
            "4500/4500 - 55s - loss: 0.4427 - accuracy: 0.7870 - val_loss: 0.5082 - val_accuracy: 0.7551\n",
            "Epoch 18/50\n",
            "4500/4500 - 54s - loss: 0.4404 - accuracy: 0.7890 - val_loss: 0.5111 - val_accuracy: 0.7539\n",
            "Epoch 19/50\n",
            "4500/4500 - 55s - loss: 0.4375 - accuracy: 0.7908 - val_loss: 0.5059 - val_accuracy: 0.7549\n",
            "Epoch 20/50\n",
            "4500/4500 - 55s - loss: 0.4328 - accuracy: 0.7933 - val_loss: 0.5102 - val_accuracy: 0.7516\n",
            "Epoch 21/50\n",
            "4500/4500 - 55s - loss: 0.4295 - accuracy: 0.7950 - val_loss: 0.5233 - val_accuracy: 0.7468\n",
            "Epoch 22/50\n",
            "4500/4500 - 55s - loss: 0.4286 - accuracy: 0.7956 - val_loss: 0.5160 - val_accuracy: 0.7494\n",
            "Epoch 23/50\n",
            "4500/4500 - 54s - loss: 0.4253 - accuracy: 0.7979 - val_loss: 0.5180 - val_accuracy: 0.7483\n",
            "Epoch 24/50\n",
            "4500/4500 - 54s - loss: 0.4220 - accuracy: 0.7992 - val_loss: 0.5186 - val_accuracy: 0.7476\n",
            "Epoch 25/50\n",
            "4500/4500 - 54s - loss: 0.4198 - accuracy: 0.8025 - val_loss: 0.5275 - val_accuracy: 0.7499\n",
            "Epoch 26/50\n",
            "4500/4500 - 54s - loss: 0.4167 - accuracy: 0.8026 - val_loss: 0.5214 - val_accuracy: 0.7452\n",
            "Epoch 27/50\n",
            "4500/4500 - 54s - loss: 0.4142 - accuracy: 0.8044 - val_loss: 0.5343 - val_accuracy: 0.7472\n",
            "Epoch 28/50\n",
            "4500/4500 - 54s - loss: 0.4116 - accuracy: 0.8061 - val_loss: 0.5356 - val_accuracy: 0.7448\n",
            "Epoch 29/50\n",
            "4500/4500 - 53s - loss: 0.4077 - accuracy: 0.8082 - val_loss: 0.5489 - val_accuracy: 0.7412\n",
            "Epoch 30/50\n",
            "4500/4500 - 54s - loss: 0.4063 - accuracy: 0.8076 - val_loss: 0.5465 - val_accuracy: 0.7456\n",
            "Epoch 31/50\n",
            "4500/4500 - 55s - loss: 0.4034 - accuracy: 0.8099 - val_loss: 0.5414 - val_accuracy: 0.7437\n",
            "Epoch 32/50\n",
            "4500/4500 - 55s - loss: 0.4017 - accuracy: 0.8110 - val_loss: 0.5354 - val_accuracy: 0.7418\n",
            "Epoch 33/50\n",
            "4500/4500 - 56s - loss: 0.4012 - accuracy: 0.8102 - val_loss: 0.5542 - val_accuracy: 0.7505\n",
            "Epoch 34/50\n",
            "4500/4500 - 57s - loss: 0.3992 - accuracy: 0.8131 - val_loss: 0.5510 - val_accuracy: 0.7454\n",
            "Epoch 35/50\n",
            "4500/4500 - 56s - loss: 0.3957 - accuracy: 0.8153 - val_loss: 0.5504 - val_accuracy: 0.7442\n",
            "Epoch 36/50\n",
            "4500/4500 - 57s - loss: 0.3942 - accuracy: 0.8155 - val_loss: 0.5571 - val_accuracy: 0.7423\n",
            "Epoch 37/50\n",
            "4500/4500 - 57s - loss: 0.3904 - accuracy: 0.8170 - val_loss: 0.5560 - val_accuracy: 0.7407\n",
            "Epoch 38/50\n",
            "4500/4500 - 57s - loss: 0.3881 - accuracy: 0.8193 - val_loss: 0.5597 - val_accuracy: 0.7412\n",
            "Epoch 39/50\n",
            "4500/4500 - 57s - loss: 0.3873 - accuracy: 0.8192 - val_loss: 0.5596 - val_accuracy: 0.7395\n",
            "Epoch 40/50\n",
            "4500/4500 - 58s - loss: 0.3845 - accuracy: 0.8207 - val_loss: 0.5630 - val_accuracy: 0.7412\n",
            "Epoch 41/50\n",
            "4500/4500 - 58s - loss: 0.3838 - accuracy: 0.8209 - val_loss: 0.5535 - val_accuracy: 0.7394\n",
            "Epoch 42/50\n",
            "4500/4500 - 57s - loss: 0.3821 - accuracy: 0.8230 - val_loss: 0.5692 - val_accuracy: 0.7356\n",
            "Epoch 43/50\n",
            "4500/4500 - 57s - loss: 0.3807 - accuracy: 0.8226 - val_loss: 0.5670 - val_accuracy: 0.7386\n",
            "Epoch 44/50\n",
            "4500/4500 - 57s - loss: 0.3787 - accuracy: 0.8240 - val_loss: 0.5620 - val_accuracy: 0.7376\n",
            "Epoch 45/50\n",
            "4500/4500 - 57s - loss: 0.3762 - accuracy: 0.8259 - val_loss: 0.5873 - val_accuracy: 0.7331\n",
            "Epoch 46/50\n",
            "4500/4500 - 57s - loss: 0.3757 - accuracy: 0.8255 - val_loss: 0.5702 - val_accuracy: 0.7359\n",
            "Epoch 47/50\n",
            "4500/4500 - 59s - loss: 0.3734 - accuracy: 0.8256 - val_loss: 0.5865 - val_accuracy: 0.7345\n",
            "Epoch 48/50\n",
            "4500/4500 - 58s - loss: 0.3708 - accuracy: 0.8296 - val_loss: 0.5876 - val_accuracy: 0.7365\n",
            "Epoch 49/50\n",
            "4500/4500 - 58s - loss: 0.3680 - accuracy: 0.8287 - val_loss: 0.5757 - val_accuracy: 0.7382\n",
            "Epoch 50/50\n",
            "4500/4500 - 59s - loss: 0.3681 - accuracy: 0.8299 - val_loss: 0.5948 - val_accuracy: 0.7329\n",
            "Training Complete\n"
          ],
          "name": "stdout"
        }
      ]
    },
    {
      "cell_type": "code",
      "metadata": {
        "colab_type": "code",
        "id": "qxju4ItJKO8F",
        "colab": {
          "base_uri": "https://localhost:8080/",
          "height": 609
        },
        "outputId": "5ac75e06-ed3a-40ed-cf29-d477391789fe"
      },
      "source": [
        "import matplotlib.image  as mpimg\n",
        "import matplotlib.pyplot as plt\n",
        "\n",
        "#-----------------------------------------------------------\n",
        "# Retrieve a list of list results on training and test data\n",
        "# sets for each training epoch\n",
        "#-----------------------------------------------------------\n",
        "acc=history.history['accuracy']\n",
        "val_acc=history.history['val_accuracy']\n",
        "loss=history.history['loss']\n",
        "val_loss=history.history['val_loss']\n",
        "\n",
        "epochs=range(len(acc)) # Get number of epochs\n",
        "\n",
        "#------------------------------------------------\n",
        "# Plot training and validation accuracy per epoch\n",
        "#------------------------------------------------\n",
        "plt.plot(epochs, acc, 'r')\n",
        "plt.plot(epochs, val_acc, 'b')\n",
        "plt.title('Training and validation accuracy')\n",
        "plt.xlabel(\"Epochs\")\n",
        "plt.ylabel(\"Accuracy\")\n",
        "plt.legend([\"Accuracy\", \"Validation Accuracy\"])\n",
        "\n",
        "plt.figure()\n",
        "\n",
        "#------------------------------------------------\n",
        "# Plot training and validation loss per epoch\n",
        "#------------------------------------------------\n",
        "plt.plot(epochs, loss, 'r')\n",
        "plt.plot(epochs, val_loss, 'b')\n",
        "plt.title('Training and validation loss')\n",
        "plt.xlabel(\"Epochs\")\n",
        "plt.ylabel(\"Loss\")\n",
        "plt.legend([\"Loss\", \"Validation Loss\"])\n",
        "\n",
        "plt.figure()\n",
        "\n",
        "\n",
        "# Expected Output\n",
        "# A chart where the validation loss does not increase sharply!"
      ],
      "execution_count": 52,
      "outputs": [
        {
          "output_type": "execute_result",
          "data": {
            "text/plain": [
              "<Figure size 432x288 with 0 Axes>"
            ]
          },
          "metadata": {
            "tags": []
          },
          "execution_count": 52
        },
        {
          "output_type": "display_data",
          "data": {
            "image/png": "[encoded data removed]",
            "text/plain": [
              "<Figure size 432x288 with 1 Axes>"
            ]
          },
          "metadata": {
            "tags": [],
            "needs_background": "light"
          }
        },
        {
          "output_type": "display_data",
          "data": {
            "image/png": "[encoded data removed]",
            "text/plain": [
              "<Figure size 432x288 with 1 Axes>"
            ]
          },
          "metadata": {
            "tags": [],
            "needs_background": "light"
          }
        },
        {
          "output_type": "display_data",
          "data": {
            "text/plain": [
              "<Figure size 432x288 with 0 Axes>"
            ]
          },
          "metadata": {
            "tags": []
          }
        }
      ]
    }
  ]
}